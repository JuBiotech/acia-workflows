{
 "cells": [
  {
   "cell_type": "markdown",
   "metadata": {},
   "source": [
    "# Scaling analysis for analyzing alternating oxygen impact on singl-cell development\n",
    "\n",
    "We have developed the notebook to evaulate a single time-lapse sequences and gain insight into the impact of alternating oxygen impact on the single-cell level. Now we are going to scale this analysis across multiple time-lapse sequences and extract quantitative insights across multiple cell populations."
   ]
  },
  {
   "cell_type": "markdown",
   "metadata": {},
   "source": [
    "## 1. Setup"
   ]
  },
  {
   "cell_type": "code",
   "execution_count": null,
   "metadata": {
    "editable": true,
    "slideshow": {
     "slide_type": ""
    },
    "tags": []
   },
   "outputs": [],
   "source": [
    "%load_ext autoreload\n",
    "%autoreload 2"
   ]
  },
  {
   "cell_type": "code",
   "execution_count": null,
   "metadata": {
    "editable": true,
    "scrolled": true,
    "slideshow": {
     "slide_type": ""
    },
    "tags": []
   },
   "outputs": [],
   "source": [
    "# Install dependencies\n",
    "\n",
    "%pip uninstall acia -y\n",
    "%pip install acia==0.3.0\n",
    "\n",
    "# dependencies for Omnipose segmentation\n",
    "%pip install torch torchvision torchaudio # --index-url https://download.pytorch.org/whl/cpu\n",
    "%pip install omnipose==1.0.6\n",
    "%pip install natsort\n",
    "%pip install scipy==1.11.4"
   ]
  },
  {
   "cell_type": "markdown",
   "metadata": {
    "editable": true,
    "slideshow": {
     "slide_type": ""
    },
    "tags": []
   },
   "source": [
    "## Parameters"
   ]
  },
  {
   "cell_type": "code",
   "execution_count": null,
   "metadata": {
    "editable": true,
    "slideshow": {
     "slide_type": ""
    },
    "tags": [
     "parameters"
    ]
   },
   "outputs": [],
   "source": [
    "from pathlib import Path\n",
    "\n",
    "analysis_script = str(Path(\"../../case_studies/03_SingleCell_Alternating_Oxygen/Single_cell_alternating_oxygen.ipynb\").absolute().resolve())"
   ]
  },
  {
   "cell_type": "code",
   "execution_count": null,
   "metadata": {
    "editable": true,
    "slideshow": {
     "slide_type": ""
    },
    "tags": []
   },
   "outputs": [],
   "source": [
    "import os\n",
    "print(os.getcwd())"
   ]
  },
  {
   "cell_type": "code",
   "execution_count": null,
   "metadata": {
    "editable": true,
    "slideshow": {
     "slide_type": ""
    },
    "tags": [
     "parameters"
    ]
   },
   "outputs": [],
   "source": [
    "import os\n",
    "\n",
    "# place to store the data\n",
    "dataset_folder = Path(\"03_OxygenAlternation\")\n",
    "\n",
    "# make sure the data exists (otherwise download)\n",
    "if not dataset_folder.is_dir():\n",
    "    !wget -O 03_oxygen_alternation.zip https://fz-juelich.sciebo.de/s/f1RCpz0h9gwI3IS/download\n",
    "    !unzip 03_oxygen_alternation.zip"
   ]
  },
  {
   "cell_type": "markdown",
   "metadata": {},
   "source": [
    "## 1.2 Specify the analysis script\n",
    "\n",
    "Now you have to specify the name of the analysis script you want to apply to the image data.\n",
    "\n",
    "**Note:** If the analysis script is not located in the same folder you need to specify the path to it."
   ]
  },
  {
   "cell_type": "code",
   "execution_count": null,
   "metadata": {
    "editable": true,
    "slideshow": {
     "slide_type": ""
    }
   },
   "outputs": [],
   "source": [
    "print(Path(analysis_script).resolve().absolute(), Path(analysis_script).exists())\n",
    "assert Path(analysis_script).exists(), f\"The notebook '{analysis_script}' does not exist!\""
   ]
  },
  {
   "cell_type": "markdown",
   "metadata": {},
   "source": [
    "# 2. Information about the underlying data\n",
    "\n",
    "We summarize the amount of underlying data"
   ]
  },
  {
   "cell_type": "code",
   "execution_count": null,
   "metadata": {},
   "outputs": [],
   "source": [
    "image_ids = [str(p.absolute()) for p in dataset_folder.glob(\"*.tiff\")]\n",
    "\n",
    "## TODO: give an overview about the data\n",
    "print(image_ids)"
   ]
  },
  {
   "cell_type": "code",
   "execution_count": null,
   "metadata": {
    "editable": true,
    "slideshow": {
     "slide_type": ""
    },
    "tags": []
   },
   "outputs": [],
   "source": [
    "#!rm -r automated_executions"
   ]
  },
  {
   "cell_type": "markdown",
   "metadata": {},
   "source": [
    "# 3. Scale the analysis script to all image sequences\n",
    "\n",
    "Now we apply the analysis script to every image sequence individually 🚀! You can lean back and enjoy the working computer 😎 🥂\n",
    "\n",
    "**Note:** For heavy analysis scripts or for larget `datasets` this process may take a while (from minutes to hours or days). The top-level progress bar will indicate the total progress and give you an indication how long this will take. For large image data volumes we can recommend execution over night 🌔!"
   ]
  },
  {
   "cell_type": "code",
   "execution_count": null,
   "metadata": {},
   "outputs": [],
   "source": [
    "os.environ[\"JYPN_NO_DEP_INSTALL\"] = \"True\""
   ]
  },
  {
   "cell_type": "code",
   "execution_count": null,
   "metadata": {},
   "outputs": [],
   "source": [
    "from datetime import datetime\n",
    "from pathlib import Path\n",
    "from acia.analysis import scale\n",
    "\n",
    "# set the base path for all results\n",
    "stem = Path(analysis_script).stem\n",
    "output_path = Path(\"./automated_executions\")\n",
    "\n",
    "print(f\"Results are stored in: {output_path.absolute()}\")"
   ]
  },
  {
   "cell_type": "code",
   "execution_count": null,
   "metadata": {},
   "outputs": [],
   "source": [
    "# scale your analysis script to many images\n",
    "result = scale(\n",
    "    output_path,\n",
    "    analysis_script=analysis_script,\n",
    "    image_ids=image_ids,\n",
    "    exist_ok=True,\n",
    "    execution_naming=lambda iid: f\"execution_{Path(iid).stem}\",\n",
    "    kernel_name=\"python3\")"
   ]
  },
  {
   "cell_type": "markdown",
   "metadata": {},
   "source": [
    "# 4. Inspect your analysis results\n"
   ]
  },
  {
   "cell_type": "code",
   "execution_count": null,
   "metadata": {},
   "outputs": [],
   "source": [
    "import pandas as pd\n",
    "from pathlib import Path\n",
    "\n",
    "df_paths = Path(\"automated_executions\").glob(\"**/interesting_single_cell.csv\")\n",
    "\n",
    "df = pd.concat([pd.read_csv(path) for path in df_paths])\n",
    "df_image_groups = df.groupby([\"image_id\"])\n",
    "\n",
    "num_images = len(df_image_groups)\n",
    "\n",
    "for image_id, df_image in df_image_groups:\n",
    "    df_image.groupby(\"label\")\n",
    "    \n",
    "print(len(df.groupby([\"image_id\", \"label\"])))"
   ]
  },
  {
   "cell_type": "code",
   "execution_count": null,
   "metadata": {},
   "outputs": [],
   "source": [
    "valid_labels = df.groupby([\"image_id\", \"label\"])[\"area\"].agg([\"min\", \"max\"])[\"max\"] > 2.5\n",
    "\n",
    "image_label_set = set(valid_labels[valid_labels].index)"
   ]
  },
  {
   "cell_type": "code",
   "execution_count": null,
   "metadata": {},
   "outputs": [],
   "source": [
    "sel = df.apply(lambda r: (r[\"image_id\"], r[\"label\"]) in image_label_set, axis=1)\n",
    "new_df = df[sel]\n",
    "new_df"
   ]
  },
  {
   "cell_type": "code",
   "execution_count": null,
   "metadata": {},
   "outputs": [],
   "source": [
    "df_image_groups = new_df.groupby([\"image_id\"])"
   ]
  },
  {
   "cell_type": "code",
   "execution_count": null,
   "metadata": {},
   "outputs": [],
   "source": [
    "import matplotlib.pyplot as plt\n",
    "import matplotlib.gridspec as gridspec\n",
    "import numpy as np\n",
    "import seaborn as sns\n",
    "\n",
    "gs = gridspec.GridSpec(2*num_images,2, hspace=0)\n",
    "fig = plt.figure(figsize=(4, 12))\n",
    "\n",
    "axes = np.zeros((num_images, 2), dtype=object)\n",
    "\n",
    "for i, (image_id, df_image) in enumerate(df_image_groups):\n",
    "    axes[i,0] = fig.add_subplot(gs[i, 0], sharex=axes[0,0] if i > 0 else None, sharey=axes[0,0] if i > 0 else None)\n",
    "    axes[i,1] = fig.add_subplot(gs[i, 1], sharex=axes[0,1] if i > 0 else None, sharey=axes[0,1] if i > 0 else None)\n",
    "    \n",
    "    axes[i,0].set_xlim((1.3, 1.7))\n",
    "    axes[i,1].set_xlim((1.3, 1.7))\n",
    "    \n",
    "    axes[i,0].set_ylim((3, 7.5))\n",
    "    axes[i,1].set_ylim((0, 14))\n",
    "\n",
    "    axes[i,0].grid(True)\n",
    "    axes[i,1].grid(True)\n",
    "    \n",
    "    axes[i,0].axvline(1.5, color=\"gray\", ls=\"--\")\n",
    "    axes[i,1].axvline(1.5, color=\"gray\", ls=\"--\")\n",
    "    \n",
    "    axes[i,0].set_ylabel(f\"Cell area\\n[$\\mu m^2$]\")\n",
    "    axes[i,1].set_ylabel(r\"[$\\frac{\\mu m^2}{h}$]\")\n",
    "    \n",
    "    axes[i,0].set_xlabel(f\"Time [h]\")\n",
    "    axes[i,1].set_xlabel(r\"Time [h]\")\n",
    "    \n",
    "    \n",
    "    if i == 0:\n",
    "        axes[i, 0].set_title(\"Single-Cell\\nArea\")\n",
    "        axes[i, 1].set_title(\"Single-Cell\\nInstant growth rate\")\n",
    "    \n",
    "    for l, df_label in df_image.groupby(\"label\"):\n",
    "    \n",
    "        sns.lineplot(df_label, x=\"time\", y=\"area_filtered\", ax=axes[i,0])\n",
    "        sns.lineplot(df_label, x=\"time\", y=\"deriv_filtered\", ax=axes[i, 1])\n",
    "        \n",
    "plt.tight_layout()\n",
    "\n",
    "plt.savefig(\"single_cell_ensemble.png\", dpi=300)\n",
    "plt.savefig(\"single_cell_ensemble.svg\", dpi=300)"
   ]
  },
  {
   "cell_type": "code",
   "execution_count": null,
   "metadata": {},
   "outputs": [],
   "source": [
    "df_image.groupby(\"label\").agg([\"min\", \"max\"])"
   ]
  },
  {
   "cell_type": "code",
   "execution_count": null,
   "metadata": {},
   "outputs": [],
   "source": [
    "import matplotlib.pyplot as plt\n",
    "import matplotlib.gridspec as gridspec\n",
    "import numpy as np\n",
    "import seaborn as sns\n",
    "\n",
    "fig, axes = plt.subplots(2, 1, figsize=(3, 7), sharex=True)\n",
    "\n",
    "cmap = plt.get_cmap('Set1')\n",
    "\n",
    "image_ids = np.unique(df[\"image_id\"])\n",
    "\n",
    "colors = cmap(np.linspace(0, 1, len(image_ids)))\n",
    "\n",
    "color_map = {image_id: color for image_id, color in zip(image_ids, colors)}\n",
    "print(color_map)\n",
    "\n",
    "for i, (image_id, df_image) in enumerate(df_image_groups):\n",
    "    for l, df_label in df_image.groupby(\"label\"):\n",
    "        axes[0].plot(df_label[\"time\"], df_label[\"area_filtered\"], label=l, color=\"black\", linewidth=0.3) #color_map[image_id[0]])\n",
    "        axes[1].plot(df_label[\"time\"], df_label[\"deriv_filtered\"], label=l, color=\"black\", linewidth=0.3) #color_map[image_id[0]])\n",
    "\n",
    "#sns.lineplot(df, x=\"time\", y=\"area_filtered\", hue=\"image_id\", ax=axes[0])\n",
    "\n",
    "axes[0].set_xlim((1.3, 1.7))\n",
    "axes[1].set_xlim((1.3, 1.7))\n",
    "\n",
    "axes[0].set_ylim((3, 7.5))\n",
    "axes[1].set_ylim((0, 16))\n",
    "\n",
    "#axes[0].axvline(1.5, color=\"gray\", ls=\"--\")\n",
    "#axes[1].axvline(1.5, color=\"gray\", ls=\"--\")\n",
    "\n",
    "axes[0].grid(True)\n",
    "axes[1].grid(True)\n",
    "\n",
    "axes[0].set_ylabel(f\"Single-Cell Area [$\\mu m^2$]\")\n",
    "axes[1].set_ylabel(r\"Instantaneous Growth Rate [$\\mu m^2 \\cdot h^{-1}$]\")\n",
    "\n",
    "axes[1].set_xlabel(r\"Time [$h$]\")\n",
    "\n",
    "plt.tight_layout()\n",
    "\n",
    "colors = [\"green\", \"red\"]\n",
    "switch_interval = 1/6*3 # every 30 minutes\n",
    "total_time = 3\n",
    "for i, ax in enumerate(axes):\n",
    "    state = 0\n",
    "    x_start = 0\n",
    "    for _ in range(int(np.ceil(total_time / switch_interval))):\n",
    "        ax.axvspan(xmin=x_start, xmax=x_start+switch_interval, color=colors[state], alpha=0.2)\n",
    "\n",
    "        x_start += switch_interval\n",
    "        state = (state + 1) % 2\n",
    "\n",
    "#plt.legend()\n",
    "\n",
    "plt.savefig(\"single_cell_ensemble.png\", dpi=300)\n",
    "plt.savefig(\"single_cell_ensemble.svg\", dpi=300)"
   ]
  },
  {
   "cell_type": "markdown",
   "metadata": {},
   "source": [
    "## 🔁 Reproducibility Information\n",
    "\n",
    "pip and conda environment details"
   ]
  },
  {
   "cell_type": "code",
   "execution_count": null,
   "metadata": {},
   "outputs": [],
   "source": [
    "%pip freeze"
   ]
  },
  {
   "cell_type": "code",
   "execution_count": null,
   "metadata": {},
   "outputs": [],
   "source": [
    "%mamba env export"
   ]
  }
 ],
 "metadata": {
  "kernelspec": {
   "display_name": "Python 3 (ipykernel)",
   "language": "python",
   "name": "python3"
  },
  "language_info": {
   "codemirror_mode": {
    "name": "ipython",
    "version": 3
   },
   "file_extension": ".py",
   "mimetype": "text/x-python",
   "name": "python",
   "nbconvert_exporter": "python",
   "pygments_lexer": "ipython3",
   "version": "3.10.16"
  },
  "vscode": {
   "interpreter": {
    "hash": "43e720662e2b73f3f858656968524fca68eb44fc0b1d15b9eb878c7d185562f9"
   }
  }
 },
 "nbformat": 4,
 "nbformat_minor": 4
}
