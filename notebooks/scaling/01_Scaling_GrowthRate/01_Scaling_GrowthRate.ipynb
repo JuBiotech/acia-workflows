{
 "cells": [
  {
   "cell_type": "markdown",
   "metadata": {
    "editable": true,
    "slideshow": {
     "slide_type": ""
    },
    "tags": []
   },
   "source": [
    "# Scaling Analysis for GrowthRate Quantification\n",
    "\n",
    "We have developed a growth rate analysis notebook to evaulate a single time-lapse sequences. Now we are going to scale this analysis across multiple time-lapse sequences and extract quantitative insights across multiple cell populations."
   ]
  },
  {
   "cell_type": "markdown",
   "metadata": {},
   "source": [
    "## 1. Setup"
   ]
  },
  {
   "cell_type": "code",
   "execution_count": null,
   "metadata": {},
   "outputs": [],
   "source": [
    "%load_ext autoreload\n",
    "%autoreload 2"
   ]
  },
  {
   "cell_type": "code",
   "execution_count": null,
   "metadata": {
    "scrolled": true
   },
   "outputs": [],
   "source": [
    "# install acia dependencies\n",
    "%pip uninstall acia -y\n",
    "%pip install acia==0.3.0\n",
    "\n",
    "# dependencies for Omnipose segmentation\n",
    "%pip install torch torchvision torchaudio # --index-url https://download.pytorch.org/whl/cpu\n",
    "%pip install omnipose==1.0.6\n",
    "%pip install natsort\n",
    "%pip install scipy==1.11.4"
   ]
  },
  {
   "cell_type": "markdown",
   "metadata": {},
   "source": [
    "# Parameters"
   ]
  },
  {
   "cell_type": "code",
   "execution_count": null,
   "metadata": {
    "tags": [
     "parameters"
    ]
   },
   "outputs": [],
   "source": [
    "from pathlib import Path\n",
    "\n",
    "analysis_script = str(Path(\"../../case_studies/01_GrowthRateQuantification/Quantify_GrowthRates.ipynb\").absolute().resolve())"
   ]
  },
  {
   "cell_type": "code",
   "execution_count": null,
   "metadata": {},
   "outputs": [],
   "source": [
    "import os\n",
    "print(os.getcwd())"
   ]
  },
  {
   "cell_type": "code",
   "execution_count": null,
   "metadata": {
    "tags": [
     "parameters"
    ]
   },
   "outputs": [],
   "source": [
    "import os\n",
    "from pathlib import Path\n",
    "\n",
    "# place to store the data\n",
    "dataset_folder = Path(\"01_GrowthRate\")\n",
    "\n",
    "# make sure the data exists (otherwise download)\n",
    "if not dataset_folder.is_dir():\n",
    "    !wget -O 01_toiam_dataset.zip https://fz-juelich.sciebo.de/s/QVzBLk8n1X6g2IG/download\n",
    "    !unzip 01_toiam_dataset.zip"
   ]
  },
  {
   "cell_type": "markdown",
   "metadata": {},
   "source": [
    "## 1.2 Specify the analysis script\n",
    "\n",
    "Now you have to specify the name of the analysis script you want to apply to the image data.\n",
    "\n",
    "**Note:** If the analysis script is not located in the same folder you need to specify the path to it."
   ]
  },
  {
   "cell_type": "code",
   "execution_count": null,
   "metadata": {},
   "outputs": [],
   "source": [
    "analysis_script = str(Path(analysis_script).absolute().resolve())\n",
    "print(analysis_script, Path(analysis_script).exists())"
   ]
  },
  {
   "cell_type": "markdown",
   "metadata": {},
   "source": [
    "# 2. Information about the underlying data\n",
    "\n",
    "We summarize the amount of underlying data"
   ]
  },
  {
   "cell_type": "code",
   "execution_count": null,
   "metadata": {},
   "outputs": [],
   "source": [
    "image_ids = [str(p.absolute()) for p in dataset_folder.glob(\"*.tiff\")]\n",
    "\n",
    "## TODO: give an overview about the data\n",
    "print(image_ids)"
   ]
  },
  {
   "cell_type": "code",
   "execution_count": null,
   "metadata": {},
   "outputs": [],
   "source": [
    "#!rm -r automated_executions\n",
    "#!rm -r 01_GrowthRate"
   ]
  },
  {
   "cell_type": "markdown",
   "metadata": {},
   "source": [
    "# 3. Scale the analysis script to all image sequences\n",
    "\n",
    "Now we apply the analysis script to every image sequence individually 🚀! You can lean back and enjoy the working computer 😎 🥂\n",
    "\n",
    "**Note:** For heavy analysis scripts or for larget `datasets` this process may take a while (from minutes to hours or days). The top-level progress bar will indicate the total progress and give you an indication how long this will take. For large image data volumes we can recommend execution over night 🌔!"
   ]
  },
  {
   "cell_type": "code",
   "execution_count": null,
   "metadata": {},
   "outputs": [],
   "source": [
    "os.environ[\"JYPN_NO_DEP_INSTALL\"] = \"True\""
   ]
  },
  {
   "cell_type": "code",
   "execution_count": null,
   "metadata": {},
   "outputs": [],
   "source": [
    "from datetime import datetime\n",
    "from pathlib import Path\n",
    "from acia.analysis import scale\n",
    "\n",
    "# set the base path for all results\n",
    "stem = Path(analysis_script).stem\n",
    "output_path = Path(\"./automated_executions\")\n",
    "\n",
    "print(f\"Results are stored in: {output_path.absolute()}\")"
   ]
  },
  {
   "cell_type": "code",
   "execution_count": null,
   "metadata": {},
   "outputs": [],
   "source": [
    "# scale your analysis script to many time-lapses\n",
    "result = scale(\n",
    "    output_path,\n",
    "    analysis_script=analysis_script,\n",
    "    image_ids=image_ids,\n",
    "    exist_ok=True,\n",
    "    execution_naming=lambda iid: f\"execution_{Path(iid).stem}\",\n",
    "    kernel_name=\"python3\")"
   ]
  },
  {
   "cell_type": "markdown",
   "metadata": {},
   "source": [
    "# 4. Inspect your analysis results\n"
   ]
  },
  {
   "cell_type": "code",
   "execution_count": null,
   "metadata": {},
   "outputs": [],
   "source": [
    "from PIL import Image\n",
    "import matplotlib.pyplot as plt\n",
    "\n",
    "images = []\n",
    "\n",
    "# put your analysis code for summary statistics here!\n",
    "for res_path in Path(\"automated_executions\").glob(\"execution_*\"):\n",
    "    im = Image.open(res_path / \"output\" / \"gr_comparison.png\")\n",
    "    images.append(im)\n",
    "     \n",
    "fig, axes = plt.subplots(1, len(images), figsize=(50, 5*len(images)))\n",
    "\n",
    "for ax, im in zip(axes, images):\n",
    "    ax.imshow(im)\n",
    "    \n",
    "    ax.axis(\"off\")   "
   ]
  },
  {
   "cell_type": "code",
   "execution_count": null,
   "metadata": {},
   "outputs": [],
   "source": [
    "import pandas as pd\n",
    "\n",
    "df_gr_estimates = []\n",
    "\n",
    "# put your analysis code for summary statistics here!\n",
    "for res_path in sorted(Path(\"automated_executions\").glob(\"execution_*\")):    \n",
    "    df_gr_est = pd.read_csv(res_path / \"output\" / \"growth_estimates.csv\")\n",
    "    df_gr_est[\"image_id\"] = res_path.name[-4:]\n",
    "    df_gr_estimates.append(df_gr_est)\n",
    "    \n",
    "df_gr_estimates = pd.concat(df_gr_estimates)\n",
    "\n"
   ]
  },
  {
   "cell_type": "code",
   "execution_count": null,
   "metadata": {},
   "outputs": [],
   "source": [
    "import pandas as pd\n",
    "\n",
    "df_all_cells = []\n",
    "df_all_colonies = []\n",
    "\n",
    "# put your analysis code for summary statistics here!\n",
    "for res_path in sorted(Path(\"automated_executions\").glob(\"execution_*\")):    \n",
    "    df_cells = pd.read_csv(res_path / \"output\" / \"allcells.csv\", sep=\";\")\n",
    "    df_cells[\"image_id\"] = res_path.name[-4:]\n",
    "    df_all_cells.append(df_cells)\n",
    "\n",
    "\n",
    "\n",
    "    df_colony = pd.read_csv(res_path / \"output\" / \"colony.csv\", sep=\",\")\n",
    "    df_colony[\"image_id\"] = res_path.name[-4:]\n",
    "    df_all_colonies.append(df_colony)    \n",
    "    \n",
    "df_all_cells = pd.concat(df_all_cells)\n",
    "df_all_colonies = pd.concat(df_all_colonies)\n",
    "\n",
    "df_all_colonies"
   ]
  },
  {
   "cell_type": "code",
   "execution_count": null,
   "metadata": {},
   "outputs": [],
   "source": [
    "df_cell_counts = df_all_cells.groupby([\"image_id\", \"time\"]).size().reset_index(name=\"cell_count\")\n",
    "df_cell_areas = df_all_cells.groupby([\"image_id\", \"time\"]).agg(\"sum\").reset_index()\n",
    "df_colony_areas = df_all_colonies.groupby([\"image_id\", \"time\"]).agg(\"sum\").reset_index()"
   ]
  },
  {
   "cell_type": "code",
   "execution_count": null,
   "metadata": {},
   "outputs": [],
   "source": [
    "import seaborn as sns\n",
    "sns.lineplot(df_cell_counts, x=\"time\", y=\"cell_count\", hue=\"image_id\")\n",
    "plt.yscale(\"log\")\n",
    "plt.grid(\"True\")"
   ]
  },
  {
   "cell_type": "code",
   "execution_count": null,
   "metadata": {},
   "outputs": [],
   "source": [
    "def rename(image_id):\n",
    "    \n",
    "    lookup = {\"3803\": \"00\", \"3804\": \"01\", \"3805\": \"02\", \"3806\": \"03\", \"3807\": \"04\"}\n",
    "    \n",
    "    return lookup[image_id]\n",
    "\n",
    "df_cell_counts[\"replicate\"] = df_cell_counts[\"image_id\"].apply(rename)\n",
    "df_cell_areas[\"replicate\"] = df_cell_areas[\"image_id\"].apply(rename)\n",
    "df_colony_areas[\"replicate\"] = df_colony_areas[\"image_id\"].apply(rename)"
   ]
  },
  {
   "cell_type": "code",
   "execution_count": null,
   "metadata": {},
   "outputs": [],
   "source": [
    "import matplotlib.gridspec as gridspec\n",
    "\n",
    "fig = plt.figure(figsize=(3, 7))\n",
    "\n",
    "# gridspec inside gridspec\n",
    "#fig = plt.figure()\n",
    "\n",
    "gs0 = gridspec.GridSpec(5, 1, figure=fig)\n",
    "\n",
    "gs00 = gridspec.GridSpecFromSubplotSpec(3, 1, subplot_spec=gs0[0:3], hspace=0.05)\n",
    "\n",
    "ax1 = fig.add_subplot(gs00[0])\n",
    "ax2 = fig.add_subplot(gs00[1], sharex=ax1)\n",
    "ax3 = fig.add_subplot(gs00[2], sharex=ax1)\n",
    "\n",
    "#gs00.tight_layout(fig)\n",
    "\n",
    "ax4 = fig.add_subplot(gs0[3])\n",
    "\n",
    "axes = [ax1, ax2, ax3, ax4]\n",
    "\n",
    "#axes = [fig.add_subplot(gs[0])]\n",
    "#axes += [fig.add_subplot(gs[1], sharex=axes[0]), fig.add_subplot(gs[2], sharex=axes[0]), fig.add_subplot(gs[3])]\n",
    "#fig, axes = plt.subplots(4, 1, sharex=True, figsize=(3, 9))\n",
    "\n",
    "sns.lineplot(df_cell_counts, x=\"time\", y=\"cell_count\", hue=\"replicate\", ax=axes[0], linewidth=1)\n",
    "axes[0].set_yscale(\"log\")\n",
    "axes[0].grid(\"True\")\n",
    "\n",
    "axes[0].set_ylabel(\"Cell Count (CC)\")\n",
    "\n",
    "sns.lineplot(df_cell_areas, x=\"time\", y=\"area\", hue=\"replicate\", ax=axes[2], linewidth=1)\n",
    "axes[2].set_ylabel(\"TSCA [$\\mu m^2$]\")\n",
    "axes[2].set_yscale(\"log\")\n",
    "axes[2].grid(\"True\")\n",
    "\n",
    "sns.lineplot(df_colony_areas, x=\"time\", y=\"area\", hue=\"replicate\", ax=axes[1], linewidth=1)\n",
    "axes[1].set_ylabel(\"TCA [$\\mu m^2$]\")\n",
    "axes[1].set_yscale(\"log\")\n",
    "axes[1].grid(\"True\")\n",
    "\n",
    "axes[2].set_xlabel(\"Time [h]\")\n",
    "\n",
    "df_gr_estimates.loc[df_gr_estimates.method==\"CA\", \"method\"] = \"TCA\"\n",
    "\n",
    "sns.stripplot(df_gr_estimates, x=\"method\", y=\"mu\", hue=\"image_id\", ax=axes[3])\n",
    "sns.boxplot(df_gr_estimates, x=\"method\", y=\"mu\", ax=axes[3], color=\"grey\")\n",
    "axes[3].set_xlabel(\"Growth measure\")\n",
    "axes[3].set_ylabel(\"Growth rate [$h^{-1}$]\")\n",
    "\n",
    "axes[3].grid(True)\n",
    "\n",
    "\n",
    "handles, labels = axes[0].get_legend_handles_labels()\n",
    "#ax.legend(loc='upper center', bbox_to_anchor=(0.5, 1.05),\n",
    "#          ncol=3, fancybox=True, shadow=True)\n",
    "fig.legend(handles, labels, title=\"Replicates\", loc='lower center', ncols=3, bbox_to_anchor=(0.5, -0.0))\n",
    "\n",
    "for ax in axes:\n",
    "    ax.legend().set_visible(False)\n",
    "\n",
    "plt.tight_layout()\n",
    "\n",
    "\n",
    "plt.savefig(\"summary.png\", dpi=600)"
   ]
  },
  {
   "cell_type": "code",
   "execution_count": null,
   "metadata": {},
   "outputs": [],
   "source": [
    "sns.lineplot(df_colony_areas, x=\"time\", y=\"area\", hue=\"image_id\")\n",
    "plt.yscale(\"log\")\n",
    "plt.grid(\"True\")"
   ]
  },
  {
   "cell_type": "code",
   "execution_count": null,
   "metadata": {},
   "outputs": [],
   "source": [
    "import seaborn as sns\n",
    "\n",
    "fig, axes = plt.subplots(2, 1, figsize=(4, 8), sharex=True)\n",
    "\n",
    "sns.stripplot(df_gr_estimates, x=\"image_id\", y=\"mu\", hue=\"method\", ax=axes[0])\n",
    "sns.stripplot(df_gr_estimates, x=\"image_id\", y=\"R2\", hue=\"method\", ax=axes[1])\n",
    "axes[0].grid(True)\n",
    "axes[1].grid(True)\n",
    "\n",
    "plt.tight_layout()"
   ]
  },
  {
   "cell_type": "code",
   "execution_count": null,
   "metadata": {},
   "outputs": [],
   "source": [
    "import seaborn as sns\n",
    "\n",
    "fig, axes = plt.subplots(2, 1, figsize=(4, 8), sharex=True)\n",
    "\n",
    "sns.stripplot(df_gr_estimates, x=\"method\", y=\"mu\", hue=\"image_id\", ax=axes[0])\n",
    "sns.stripplot(df_gr_estimates, x=\"method\", y=\"R2\", hue=\"image_id\", ax=axes[1])\n",
    "axes[0].grid(True)\n",
    "axes[1].grid(True)\n",
    "\n",
    "axes[0].set_ylabel(\"Growth rate $\\mu$ [$h^{-1}$]\")\n",
    "\n",
    "plt.tight_layout()\n",
    "plt.savefig(\"growth_rates.png\", dpi=300)"
   ]
  },
  {
   "cell_type": "code",
   "execution_count": null,
   "metadata": {},
   "outputs": [],
   "source": [
    "sns.stripplot(df_gr_estimates, x=\"image_id\", y=\"R2\", hue=\"method\")\n",
    "plt.grid(True)"
   ]
  },
  {
   "cell_type": "markdown",
   "metadata": {},
   "source": [
    "## 🔁 Reproducibility Information\n",
    "\n",
    "pip and conda environment details"
   ]
  },
  {
   "cell_type": "code",
   "execution_count": null,
   "metadata": {},
   "outputs": [],
   "source": [
    "%pip freeze"
   ]
  },
  {
   "cell_type": "code",
   "execution_count": null,
   "metadata": {},
   "outputs": [],
   "source": [
    "%mamba env export"
   ]
  }
 ],
 "metadata": {
  "kernelspec": {
   "display_name": "Python 3 (ipykernel)",
   "language": "python",
   "name": "python3"
  },
  "language_info": {
   "codemirror_mode": {
    "name": "ipython",
    "version": 3
   },
   "file_extension": ".py",
   "mimetype": "text/x-python",
   "name": "python",
   "nbconvert_exporter": "python",
   "pygments_lexer": "ipython3",
   "version": "3.10.16"
  },
  "vscode": {
   "interpreter": {
    "hash": "43e720662e2b73f3f858656968524fca68eb44fc0b1d15b9eb878c7d185562f9"
   }
  }
 },
 "nbformat": 4,
 "nbformat_minor": 4
}
