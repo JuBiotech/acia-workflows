{
 "cells": [
  {
   "cell_type": "markdown",
   "metadata": {},
   "source": [
    "# Scaling Analysis for Co-Culture Quantification\n",
    "\n",
    "We have developed a co-culture analysis notebook to evaulate a single time-lapse sequences. Now we are going to scale this analysis across multiple time-lapse sequences and extract quantitative insights across multiple cell populations."
   ]
  },
  {
   "cell_type": "markdown",
   "metadata": {},
   "source": [
    "## 1. Setup"
   ]
  },
  {
   "cell_type": "code",
   "execution_count": null,
   "metadata": {
    "editable": true,
    "slideshow": {
     "slide_type": ""
    },
    "tags": []
   },
   "outputs": [],
   "source": [
    "%load_ext autoreload\n",
    "%autoreload 2"
   ]
  },
  {
   "cell_type": "code",
   "execution_count": null,
   "metadata": {
    "editable": true,
    "scrolled": true,
    "slideshow": {
     "slide_type": ""
    },
    "tags": []
   },
   "outputs": [],
   "source": [
    "# Install dependencies\n",
    "\n",
    "%pip uninstall acia -y\n",
    "%pip install acia==0.3.0\n",
    "\n",
    "# dependencies for Cellpose segmentation\n",
    "%pip uninstall -y cellpose\n",
    "%pip install --use-pep517 git+https://www.github.com/mouseland/cellpose.git@8ef88040d9aec85737e12c3f2c2969ecf149f7f0"
   ]
  },
  {
   "cell_type": "markdown",
   "metadata": {
    "editable": true,
    "slideshow": {
     "slide_type": ""
    },
    "tags": []
   },
   "source": [
    "## Parameters"
   ]
  },
  {
   "cell_type": "code",
   "execution_count": null,
   "metadata": {
    "editable": true,
    "slideshow": {
     "slide_type": ""
    },
    "tags": [
     "parameters"
    ]
   },
   "outputs": [],
   "source": [
    "from pathlib import Path\n",
    "\n",
    "analysis_script = str(Path(\"../../case_studies/02_FluorescenceCoCulture/FluorescenceLabeling.ipynb\").absolute().resolve())"
   ]
  },
  {
   "cell_type": "code",
   "execution_count": null,
   "metadata": {
    "editable": true,
    "slideshow": {
     "slide_type": ""
    },
    "tags": []
   },
   "outputs": [],
   "source": [
    "import os\n",
    "print(os.getcwd())"
   ]
  },
  {
   "cell_type": "code",
   "execution_count": null,
   "metadata": {
    "editable": true,
    "slideshow": {
     "slide_type": ""
    }
   },
   "outputs": [],
   "source": [
    "import os\n",
    "\n",
    "# place to store the data\n",
    "dataset_folder = Path(\"02_CoCulture\")\n",
    "\n",
    "# make sure the data exists (otherwise download)\n",
    "if not dataset_folder.is_dir():\n",
    "    !wget -O 02_co_culture_dataset.zip https://fz-juelich.sciebo.de/s/V1Mo0VTRYDuDy2r/download\n",
    "    !unzip 02_co_culture_dataset.zip"
   ]
  },
  {
   "cell_type": "markdown",
   "metadata": {},
   "source": [
    "## 1.2 Specify the analysis script\n",
    "\n",
    "Now you have to specify the name of the analysis script you want to apply to the image data.\n",
    "\n",
    "**Note:** If the analysis script is not located in the same folder you need to specify the path to it."
   ]
  },
  {
   "cell_type": "code",
   "execution_count": null,
   "metadata": {
    "editable": true,
    "slideshow": {
     "slide_type": ""
    },
    "tags": [
     "parameters"
    ]
   },
   "outputs": [],
   "source": [
    "print(Path(analysis_script).resolve().absolute(), Path(analysis_script).exists())\n",
    "assert Path(analysis_script).exists(), f\"The notebook '{analysis_script}' does not exist!\""
   ]
  },
  {
   "cell_type": "markdown",
   "metadata": {},
   "source": [
    "# 2. Information about the underlying data\n",
    "\n",
    "We summarize the amount of underlying data"
   ]
  },
  {
   "cell_type": "code",
   "execution_count": null,
   "metadata": {},
   "outputs": [],
   "source": [
    "image_ids = [str(p.absolute()) for p in dataset_folder.glob(\"*.tiff\")]\n",
    "\n",
    "## TODO: give an overview about the data\n",
    "print(image_ids)"
   ]
  },
  {
   "cell_type": "code",
   "execution_count": null,
   "metadata": {
    "editable": true,
    "slideshow": {
     "slide_type": ""
    },
    "tags": []
   },
   "outputs": [],
   "source": [
    "#!rm -r automated_executions\n",
    "#!rm -r 02_CoCulture"
   ]
  },
  {
   "cell_type": "markdown",
   "metadata": {},
   "source": [
    "# 3. Scale the analysis script to all image sequences\n",
    "\n",
    "Now we apply the analysis script to every image sequence individually 🚀! You can lean back and enjoy the working computer 😎 🥂\n",
    "\n",
    "**Note:** For heavy analysis scripts or for larget `datasets` this process may take a while (from minutes to hours or days). The top-level progress bar will indicate the total progress and give you an indication how long this will take. For large image data volumes we can recommend execution over night 🌔!"
   ]
  },
  {
   "cell_type": "code",
   "execution_count": null,
   "metadata": {},
   "outputs": [],
   "source": [
    "os.environ[\"JYPN_NO_DEP_INSTALL\"] = \"True\""
   ]
  },
  {
   "cell_type": "code",
   "execution_count": null,
   "metadata": {},
   "outputs": [],
   "source": [
    "from datetime import datetime\n",
    "from pathlib import Path\n",
    "from acia.analysis import scale\n",
    "\n",
    "# set the base path for all results\n",
    "stem = Path(analysis_script).stem\n",
    "output_path = Path(\"./automated_executions\")\n",
    "\n",
    "print(f\"Results are stored in: {output_path.absolute()}\")"
   ]
  },
  {
   "cell_type": "code",
   "execution_count": null,
   "metadata": {},
   "outputs": [],
   "source": [
    "\n",
    "# scale your analysis script to many images\n",
    "result = scale(\n",
    "    output_path,\n",
    "    analysis_script=analysis_script,\n",
    "    image_ids=image_ids,\n",
    "    exist_ok=True,\n",
    "    execution_naming=lambda iid: f\"execution_{Path(iid).stem}\",\n",
    "    kernel_name=\"python3\")"
   ]
  },
  {
   "cell_type": "markdown",
   "metadata": {},
   "source": [
    "# 4. Inspect your analysis results\n"
   ]
  },
  {
   "cell_type": "code",
   "execution_count": null,
   "metadata": {},
   "outputs": [],
   "source": [
    "import pandas as pd\n",
    "import cv2\n",
    "\n",
    "df_growth_estimates = []\n",
    "df_all_cells = []\n",
    "im_summaries = []\n",
    "\n",
    "for res_path in sorted(output_path.glob(\"execution_*\")):\n",
    "    \n",
    "    df_ge = pd.read_csv(res_path / \"output\" / \"growth_estimates.csv\")\n",
    "    \n",
    "    df_growth_estimates.append(pd.read_csv(res_path / \"output\" / \"growth_estimates.csv\"))\n",
    "    im_summaries.append(cv2.imread(str(res_path / \"output\" / \"complete_summary.png\")))\n",
    "    \n",
    "    df_ac = pd.read_csv(res_path / \"output\" / \"allcells.csv\")\n",
    "    df_ac[\"image_id\"] = df_ge.iloc[0][\"image_id\"]\n",
    "    \n",
    "    df_all_cells.append(df_ac)\n",
    "    \n",
    "df_growth_estimates = pd.concat(df_growth_estimates)\n",
    "df_all_cells = pd.concat(df_all_cells)"
   ]
  },
  {
   "cell_type": "code",
   "execution_count": null,
   "metadata": {},
   "outputs": [],
   "source": [
    "df_all_cells.loc[df_all_cells.label_name == \"e2_crimson\", \"label_name\"] = \"e2-crimson\""
   ]
  },
  {
   "cell_type": "code",
   "execution_count": null,
   "metadata": {},
   "outputs": [],
   "source": [
    "df_areas = df_all_cells.groupby([\"image_id\", \"time\", \"label_name\"]).agg(\"sum\").reset_index()\n",
    "df_areas"
   ]
  },
  {
   "cell_type": "code",
   "execution_count": null,
   "metadata": {},
   "outputs": [],
   "source": [
    "df_fl = df_all_cells.groupby([\"image_id\", \"time\", \"label_name\"]).agg(\"mean\").reset_index()\n",
    "df_fl.loc[df_fl.label_name == \"e2_crimson\", \"label_name\"] = \"e2-crimson\"\n",
    "df_fl"
   ]
  },
  {
   "cell_type": "code",
   "execution_count": null,
   "metadata": {},
   "outputs": [],
   "source": [
    "import matplotlib.gridspec as gridspec\n",
    "import numpy as np\n",
    "import matplotlib.pyplot as plt\n",
    "import seaborn as sns\n",
    "#fig, axes = plt.subplots(3, 1, figsize=(3, 7))\n",
    "\n",
    "fig = plt.figure(figsize=(3, 7))\n",
    "\n",
    "gs0 = gridspec.GridSpec(2, 1, figure=fig)\n",
    "\n",
    "gs00 = gridspec.GridSpecFromSubplotSpec(2, 1, subplot_spec=gs0[0:2], hspace=0.05)\n",
    "\n",
    "ax1 = fig.add_subplot(gs00[0])\n",
    "ax2 = fig.add_subplot(gs00[1])\n",
    "\n",
    "#gs00.tight_layout(fig)\n",
    "\n",
    "#ax3 = fig.add_subplot(gs0[2])\n",
    "\n",
    "axes = [ax1, None, ax2]\n",
    "\n",
    "plt.setp(ax1.get_xticklabels(), visible=False)\n",
    "\n",
    "\n",
    "colors = {\"mvenus\": \"blue\", \"e2-crimson\": \"red\"}\n",
    "\n",
    "image_ids = np.unique(df_areas[\"image_id\"])\n",
    "label_names = np.unique(df_areas[\"label_name\"])\n",
    "\n",
    "for image_id in image_ids:\n",
    "    for label_name in label_names:\n",
    "        local_df = df_areas[(df_areas.image_id == image_id) & (df_areas.label_name == label_name)]\n",
    "        axes[0].plot(local_df[\"time\"], local_df[\"area\"], color = colors[label_name], linewidth=1)\n",
    "        \n",
    "axes[0].set_ylabel(\"TSCA [$\\mu m^2$]\")\n",
    "axes[0].set_yscale(\"log\")\n",
    "axes[0].grid(True)\n",
    "\n",
    "#axes[1].set_ylabel(\"Average Fluorescence Intensity\\n[a.u.]\")\n",
    "#axes[1].grid(True)\n",
    "#axes[1].set_xlabel(\"Time [h]\")\n",
    "        \n",
    "#for image_id in image_ids:\n",
    "#    for label_name in label_names:\n",
    "#        local_df = df_fl[(df_fl.image_id == image_id) & (df_fl.label_name == label_name)]\n",
    "#        axes[1].plot(local_df[\"time\"], local_df[label_name], color = colors[label_name], linewidth=1)\n",
    "        \n",
    "sns.boxplot(df_growth_estimates[df_growth_estimates.label_name==\"mvenus\"], x=\"label_name\", y=\"mu\", ax=axes[2], color=\"gray\")\n",
    "sns.stripplot(df_growth_estimates[df_growth_estimates.label_name==\"mvenus\"], x=\"label_name\", y=\"mu\", ax=axes[2], color=\"blue\")\n",
    "sns.boxplot(df_growth_estimates[df_growth_estimates.label_name==\"e2_crimson\"], x=\"label_name\", y=\"mu\", ax=axes[2], color=\"gray\")\n",
    "sns.stripplot(df_growth_estimates[df_growth_estimates.label_name==\"e2_crimson\"], x=\"label_name\", y=\"mu\", ax=axes[2], color=\"red\")\n",
    "#sns.stripplot(df_growth_estimates, x=\"label_name\", y=\"mu\", ax=axes[2])\n",
    "\n",
    "axes[2].set_ylabel(\"$\\mu_{TSCA}$ [$h^{-1}$]\")\n",
    "axes[2].grid(True)\n",
    "axes[2].set_xlabel(\"Labeled strain\")\n",
    "\n",
    "axes[2].set_xticklabels([\"mVenus\", \"E2_Crimson\"])\n",
    "\n",
    "plt.tight_layout()\n",
    "\n",
    "plt.savefig(\"summary.png\", dpi=300)"
   ]
  },
  {
   "cell_type": "markdown",
   "metadata": {},
   "source": [
    "# 5. Generate Summary Statistics\n",
    "\n",
    "In this section you can generate your custom summary statistics that combine the results of all experiment analyses. Just design the analysis script that you scaled above such that it outputs the results into a local files. Here, these results can be loaded, merged together and further processed or visualized!"
   ]
  },
  {
   "cell_type": "code",
   "execution_count": null,
   "metadata": {},
   "outputs": [],
   "source": [
    "fig, axes = plt.subplots(1, 8, figsize=(14*8, 20))\n",
    "\n",
    "for ax, im in zip(axes, im_summaries):\n",
    "    ax.imshow(cv2.cvtColor(im, cv2.COLOR_RGB2BGR))\n",
    "    ax.axis(\"off\")\n",
    "    \n",
    "plt.savefig(\"total_summary.png\")\n",
    "plt.savefig(\"total_summary.pdf\")"
   ]
  },
  {
   "cell_type": "markdown",
   "metadata": {},
   "source": [
    "## 🔁 Reproducibility Information\n",
    "\n",
    "pip and conda environment details"
   ]
  },
  {
   "cell_type": "code",
   "execution_count": null,
   "metadata": {},
   "outputs": [],
   "source": [
    "%pip freeze"
   ]
  },
  {
   "cell_type": "code",
   "execution_count": null,
   "metadata": {},
   "outputs": [],
   "source": [
    "%mamba env export"
   ]
  }
 ],
 "metadata": {
  "kernelspec": {
   "display_name": "Python 3 (ipykernel)",
   "language": "python",
   "name": "python3"
  },
  "language_info": {
   "codemirror_mode": {
    "name": "ipython",
    "version": 3
   },
   "file_extension": ".py",
   "mimetype": "text/x-python",
   "name": "python",
   "nbconvert_exporter": "python",
   "pygments_lexer": "ipython3",
   "version": "3.10.16"
  },
  "vscode": {
   "interpreter": {
    "hash": "43e720662e2b73f3f858656968524fca68eb44fc0b1d15b9eb878c7d185562f9"
   }
  }
 },
 "nbformat": 4,
 "nbformat_minor": 4
}
